{
 "cells": [
  {
   "cell_type": "code",
   "execution_count": 2,
   "id": "8ab9e4c4-4517-44a0-8233-a8721df7bfdf",
   "metadata": {},
   "outputs": [],
   "source": [
    "import numpy as np\n",
    "import pandas as pd\n",
    "import matplotlib.pyplot as plt\n",
    "from sklearn.linear_model import LinearRegression\n",
    "from sklearn.model_selection import train_test_split\n",
    "from sklearn.metrics import mean_squared_error, mean_absolute_error"
   ]
  },
  {
   "cell_type": "code",
   "execution_count": 3,
   "id": "6854b18d-d2cf-4fe7-8b12-74815ee6f0e4",
   "metadata": {},
   "outputs": [
    {
     "name": "stdout",
     "output_type": "stream",
     "text": [
      "          x1        x2         x3         x4          y\n",
      "0   7.331693  9.660958  -2.981869   5.214284  -2.311878\n",
      "1  16.888609  9.546231  18.440459  11.804018   0.994307\n",
      "2   8.280643  6.442062  -0.225791   6.493211  -5.253876\n",
      "3   3.827778  3.741506  -2.850664  -0.226420  20.056798\n",
      "4   9.675971  4.385008   8.344576   5.979043   9.577914\n"
     ]
    }
   ],
   "source": [
    "data = pd.read_csv(\"/Users/Owner/Downloads/sampregdata.csv\", usecols=lambda column: column != \"Unnamed: 0\")\n",
    "\n",
    "print(data.head())"
   ]
  },
  {
   "cell_type": "code",
   "execution_count": 4,
   "id": "fe9ed4b8-195c-454e-ba1b-aa327b3a8efa",
   "metadata": {},
   "outputs": [
    {
     "name": "stdout",
     "output_type": "stream",
     "text": [
      "Index(['x1', 'x2', 'x3', 'x4', 'y'], dtype='object')\n"
     ]
    }
   ],
   "source": [
    "print(data.columns)"
   ]
  },
  {
   "cell_type": "code",
   "execution_count": 5,
   "id": "45d67254-94fa-4a57-bd66-30e4d62f0dcf",
   "metadata": {},
   "outputs": [
    {
     "name": "stdout",
     "output_type": "stream",
     "text": [
      "[0.01931827]\n",
      "4.009791404141933\n",
      "108.1978658472492\n",
      "8.40439592220294\n"
     ]
    }
   ],
   "source": [
    "X_train, X_test, y_train, y_test = train_test_split(pd.DataFrame(data['x1']), data['y'], test_size=0.3, random_state=42)\n",
    "\n",
    "model = LinearRegression()\n",
    "\n",
    "model.fit(X_train, y_train)\n",
    "\n",
    "y_pred = model.predict(X_test)\n",
    "\n",
    "coefs = model.coef_\n",
    "\n",
    "intercept = model.intercept_\n",
    "\n",
    "print(coefs)\n",
    "\n",
    "print(intercept)\n",
    "\n",
    "mse = mean_squared_error(y_test, y_pred)\n",
    "\n",
    "mae = mean_absolute_error(y_test, y_pred)\n",
    "\n",
    "print(mse)\n",
    "\n",
    "print(mae)"
   ]
  },
  {
   "cell_type": "code",
   "execution_count": 6,
   "id": "95e88fe4-a40a-42e1-9081-e5e55ba35589",
   "metadata": {},
   "outputs": [
    {
     "name": "stdout",
     "output_type": "stream",
     "text": [
      "[-0.83116757]\n",
      "11.09148244178758\n",
      "86.1706184367723\n",
      "7.430676936594246\n"
     ]
    }
   ],
   "source": [
    "X_train, X_test, y_train, y_test = train_test_split(pd.DataFrame(data['x2']), data['y'], test_size=0.3, random_state=42)\n",
    "\n",
    "model = LinearRegression()\n",
    "\n",
    "model.fit(X_train, y_train)\n",
    "\n",
    "y_pred = model.predict(X_test)\n",
    "\n",
    "coefs = model.coef_\n",
    "\n",
    "intercept = model.intercept_\n",
    "\n",
    "print(coefs)\n",
    "\n",
    "print(intercept)\n",
    "\n",
    "mse = mean_squared_error(y_test, y_pred)\n",
    "\n",
    "mae = mean_absolute_error(y_test, y_pred)\n",
    "\n",
    "print(mse)\n",
    "\n",
    "print(mae)"
   ]
  },
  {
   "cell_type": "code",
   "execution_count": 7,
   "id": "15a675f0-6b63-4fcd-91e7-296683b3630a",
   "metadata": {},
   "outputs": [
    {
     "name": "stdout",
     "output_type": "stream",
     "text": [
      "[0.50762012]\n",
      "0.3989756121639272\n",
      "90.032812689057\n",
      "7.663352631427506\n"
     ]
    }
   ],
   "source": [
    "X_train, X_test, y_train, y_test = train_test_split(pd.DataFrame(data['x3']), data['y'], test_size=0.3, random_state=42)\n",
    "\n",
    "model = LinearRegression()\n",
    "\n",
    "model.fit(X_train, y_train)\n",
    "\n",
    "y_pred = model.predict(X_test)\n",
    "\n",
    "coefs = model.coef_\n",
    "\n",
    "intercept = model.intercept_\n",
    "\n",
    "print(coefs)\n",
    "\n",
    "print(intercept)\n",
    "\n",
    "mse = mean_squared_error(y_test, y_pred)\n",
    "\n",
    "mae = mean_absolute_error(y_test, y_pred)\n",
    "\n",
    "print(mse)\n",
    "\n",
    "print(mae)"
   ]
  },
  {
   "cell_type": "code",
   "execution_count": 8,
   "id": "1d80bfdf-51eb-419a-9352-4d7869df317f",
   "metadata": {},
   "outputs": [
    {
     "name": "stdout",
     "output_type": "stream",
     "text": [
      "[-1.2543713]\n",
      "8.750366438685578\n",
      "78.4641937325679\n",
      "7.050487268729668\n"
     ]
    }
   ],
   "source": [
    "X_train, X_test, y_train, y_test = train_test_split(pd.DataFrame(data['x4']), data['y'], test_size=0.3, random_state=42)\n",
    "\n",
    "model = LinearRegression()\n",
    "\n",
    "model.fit(X_train, y_train)\n",
    "\n",
    "y_pred = model.predict(X_test)\n",
    "\n",
    "coefs = model.coef_\n",
    "\n",
    "intercept = model.intercept_\n",
    "\n",
    "print(coefs)\n",
    "\n",
    "print(intercept)\n",
    "\n",
    "mse = mean_squared_error(y_test, y_pred)\n",
    "\n",
    "mae = mean_absolute_error(y_test, y_pred)\n",
    "\n",
    "print(mse)\n",
    "\n",
    "print(mae)"
   ]
  },
  {
   "cell_type": "code",
   "execution_count": 9,
   "id": "d840ba1c-d3e9-452e-86da-c54f3aaa46a3",
   "metadata": {},
   "outputs": [],
   "source": [
    "# 'x4' was found to have the best fit"
   ]
  },
  {
   "cell_type": "code",
   "execution_count": 10,
   "id": "f98a501d-d427-4e83-9288-334285074ebd",
   "metadata": {},
   "outputs": [
    {
     "name": "stdout",
     "output_type": "stream",
     "text": [
      "[-1.26509152  0.1004706 ]\n",
      "7.57735199588747\n",
      "78.17581718987978\n",
      "7.045716300991335\n"
     ]
    }
   ],
   "source": [
    "X_train, X_test, y_train, y_test = train_test_split(pd.DataFrame(data[['x4','x1']]), data['y'], test_size=0.3, random_state=42)\n",
    "\n",
    "model = LinearRegression()\n",
    "\n",
    "model.fit(X_train, y_train)\n",
    "\n",
    "y_pred = model.predict(X_test)\n",
    "\n",
    "coefs = model.coef_\n",
    "\n",
    "intercept = model.intercept_\n",
    "\n",
    "print(coefs)\n",
    "\n",
    "print(intercept)\n",
    "\n",
    "mse = mean_squared_error(y_test, y_pred)\n",
    "\n",
    "mae = mean_absolute_error(y_test, y_pred)\n",
    "\n",
    "print(mse)\n",
    "\n",
    "print(mae)"
   ]
  },
  {
   "cell_type": "code",
   "execution_count": 11,
   "id": "5df682af-ef3a-4819-9590-9c1c3bd6ef45",
   "metadata": {},
   "outputs": [
    {
     "name": "stdout",
     "output_type": "stream",
     "text": [
      "[-1.29178673 -0.86073324]\n",
      "15.97717726252805\n",
      "54.61232858593953\n",
      "5.856168435885363\n"
     ]
    }
   ],
   "source": [
    "X_train, X_test, y_train, y_test = train_test_split(pd.DataFrame(data[['x4','x2']]), data['y'], test_size=0.3, random_state=42)\n",
    "\n",
    "model = LinearRegression()\n",
    "\n",
    "model.fit(X_train, y_train)\n",
    "\n",
    "y_pred = model.predict(X_test)\n",
    "\n",
    "coefs = model.coef_\n",
    "\n",
    "intercept = model.intercept_\n",
    "\n",
    "print(coefs)\n",
    "\n",
    "print(intercept)\n",
    "\n",
    "mse = mean_squared_error(y_test, y_pred)\n",
    "\n",
    "mae = mean_absolute_error(y_test, y_pred)\n",
    "\n",
    "print(mse)\n",
    "\n",
    "print(mae)"
   ]
  },
  {
   "cell_type": "code",
   "execution_count": 12,
   "id": "420672df-fe02-4516-ad98-5a132f757185",
   "metadata": {},
   "outputs": [
    {
     "name": "stdout",
     "output_type": "stream",
     "text": [
      "[-1.39908526  0.58749318]\n",
      "4.821823413259358\n",
      "51.26075779565863\n",
      "5.713655823872509\n"
     ]
    }
   ],
   "source": [
    "X_train, X_test, y_train, y_test = train_test_split(pd.DataFrame(data[['x4','x3']]), data['y'], test_size=0.3, random_state=42)\n",
    "\n",
    "model = LinearRegression()\n",
    "\n",
    "model.fit(X_train, y_train)\n",
    "\n",
    "y_pred = model.predict(X_test)\n",
    "\n",
    "coefs = model.coef_\n",
    "\n",
    "intercept = model.intercept_\n",
    "\n",
    "print(coefs)\n",
    "\n",
    "print(intercept)\n",
    "\n",
    "mse = mean_squared_error(y_test, y_pred)\n",
    "\n",
    "mae = mean_absolute_error(y_test, y_pred)\n",
    "\n",
    "print(mse)\n",
    "\n",
    "print(mae)"
   ]
  },
  {
   "cell_type": "code",
   "execution_count": 13,
   "id": "6446341b-7c7d-43ea-ad6c-c78158de5578",
   "metadata": {},
   "outputs": [],
   "source": [
    "# 'x1' & 'x3' were found to have the best fit"
   ]
  }
 ],
 "metadata": {
  "kernelspec": {
   "display_name": "Python 3 (ipykernel)",
   "language": "python",
   "name": "python3"
  },
  "language_info": {
   "codemirror_mode": {
    "name": "ipython",
    "version": 3
   },
   "file_extension": ".py",
   "mimetype": "text/x-python",
   "name": "python",
   "nbconvert_exporter": "python",
   "pygments_lexer": "ipython3",
   "version": "3.11.7"
  }
 },
 "nbformat": 4,
 "nbformat_minor": 5
}
